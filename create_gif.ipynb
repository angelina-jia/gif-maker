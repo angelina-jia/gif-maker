{
 "cells": [
  {
   "cell_type": "code",
   "execution_count": 36,
   "id": "025708b4-b178-4214-8ac6-4e1cd1270a96",
   "metadata": {},
   "outputs": [
    {
     "name": "stdout",
     "output_type": "stream",
     "text": [
      "Overwriting create_gif.py\n"
     ]
    }
   ],
   "source": [
    "%%writefile create_gif.py\n",
    "import imageio.v3 as iio\n",
    "print(\"🎬 Starting GIF creation...\")\n",
    "filenames = ['my_melody_gif1.png', 'my_melody_gif2.png']\n",
    "images = []\n",
    "for filename in filenames:\n",
    "    try:\n",
    "        print(f\"📸 Loading {filename}...\")\n",
    "        images.append(iio.imread(filename))\n",
    "        print(f\"✅ Successfully loaded {filename}\")\n",
    "    except Exception as e:\n",
    "        print(f\"❌ Error loading {filename}: {e}\")\n",
    "\n",
    "print(f\"🖼️  Total images loaded: {len(images)}\")\n",
    "print(\"🎞️  Creating GIF...\")\n",
    "iio.imwrite('team.gif', images, duration=500, loop=0)\n",
    "print(\"🎉 GIF 'team.gif' created successfully!\")"
   ]
  },
  {
   "cell_type": "code",
   "execution_count": 38,
   "id": "6069874a-c9f6-4af5-ae50-eada7019050f",
   "metadata": {},
   "outputs": [
    {
     "name": "stdout",
     "output_type": "stream",
     "text": [
      "🎬 Starting GIF creation...\n",
      "📸 Loading my_melody_gif1.png...\n",
      "✅ Successfully loaded my_melody_gif1.png\n",
      "📸 Loading my_melody_gif2.png...\n",
      "✅ Successfully loaded my_melody_gif2.png\n",
      "🖼️  Total images loaded: 2\n",
      "🎞️  Creating GIF...\n",
      "🎉 GIF 'team.gif' created successfully!\n"
     ]
    }
   ],
   "source": [
    "!python create_gif.py"
   ]
  }
 ],
 "metadata": {
  "kernelspec": {
   "display_name": "Python [conda env:base] *",
   "language": "python",
   "name": "conda-base-py"
  },
  "language_info": {
   "codemirror_mode": {
    "name": "ipython",
    "version": 3
   },
   "file_extension": ".py",
   "mimetype": "text/x-python",
   "name": "python",
   "nbconvert_exporter": "python",
   "pygments_lexer": "ipython3",
   "version": "3.12.2"
  }
 },
 "nbformat": 4,
 "nbformat_minor": 5
}
